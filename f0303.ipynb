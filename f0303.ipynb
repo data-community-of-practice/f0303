{
 "cells": [
  {
   "cell_type": "markdown",
   "metadata": {},
   "source": [
    "# Feature: Compare Node Counts by Source Across All Labels"
   ]
  },
  {
   "cell_type": "markdown",
   "metadata": {},
   "source": [
    "## Importing"
   ]
  },
  {
   "cell_type": "code",
   "execution_count": null,
   "metadata": {},
   "outputs": [],
   "source": [
    "import os\n",
    "import logging\n",
    "import configparser\n",
    "import pandas as pd\n",
    "from neo4j import GraphDatabase"
   ]
  },
  {
   "cell_type": "markdown",
   "metadata": {},
   "source": [
    "## Get Current Path"
   ]
  },
  {
   "cell_type": "code",
   "execution_count": null,
   "metadata": {},
   "outputs": [],
   "source": [
    "# Setup\n",
    "current_path = os.path.dirname(os.path.realpath(\"nodes.ipynb\"))\n",
    "# current_path = os.path.dirname(os.path.realpath('f0153.ipynb'))"
   ]
  },
  {
   "cell_type": "markdown",
   "metadata": {},
   "source": [
    "## Read Config File "
   ]
  },
  {
   "cell_type": "code",
   "execution_count": null,
   "metadata": {},
   "outputs": [],
   "source": [
    "config = configparser.ConfigParser(inline_comment_prefixes=())\n",
    "config.read(f\"{current_path}/config.ini\")\n",
    "\n",
    "neo4j_uri_old = config['DEFAULT']['Neo4j-Uri-old']\n",
    "neo4j_uri_new = config['DEFAULT']['Neo4j-Uri-new']\n",
    "username_new = config['DEFAULT']['Neo4j-Username-new']\n",
    "username_old = config['DEFAULT']['Neo4j-Username-old']\n",
    "password_old = config['DEFAULT']['Neo4j-Password-old'].strip('\"')\n",
    "password_new = config['DEFAULT']['Neo4j-Password-new']\n",
    "output_folder = config['DEFAULT']['Output-Folder']"
   ]
  },
  {
   "cell_type": "markdown",
   "metadata": {},
   "source": [
    "## Set Up Log"
   ]
  },
  {
   "cell_type": "code",
   "execution_count": null,
   "metadata": {},
   "outputs": [],
   "source": [
    "logging.basicConfig(\n",
    "    filename=f\"{current_path}/node_source_diff_all.log\",\n",
    "    level=logging.INFO,\n",
    "    format='%(asctime)s | %(levelname)s | %(message)s'\n",
    ")\n",
    "\n",
    "logging.info(\"Starting node source comparison for all labels\")\n",
    "print(\"Comparing node counts by source for all labels...\")"
   ]
  },
  {
   "cell_type": "markdown",
   "metadata": {},
   "source": [
    "## Neo4j Query Helpers"
   ]
  },
  {
   "cell_type": "code",
   "execution_count": null,
   "metadata": {},
   "outputs": [],
   "source": [
    "def get_graph_version(driver):\n",
    "    query = \"MATCH (n:version) RETURN n.version AS version LIMIT 1\"\n",
    "    try:\n",
    "        df = run_query(driver, query)\n",
    "        return df.iloc[0]['version']\n",
    "    except Exception as e:\n",
    "        logging.warning(f\"Couldn't fetch version info: {e}\")\n",
    "        return \"unknown\"\n",
    "\n",
    "def run_query(driver, query):\n",
    "    with driver.session() as session:\n",
    "        result = session.run(query)\n",
    "        return pd.DataFrame([dict(r) for r in result])\n",
    "\n",
    "def get_source_counts(driver, label):\n",
    "    query = f\"\"\"\n",
    "    MATCH (n:`{label}`)\n",
    "    RETURN n.source AS source, count(*) AS count\n",
    "    \"\"\"\n",
    "    return run_query(driver, query)"
   ]
  },
  {
   "cell_type": "markdown",
   "metadata": {},
   "source": [
    "## Compare All Labels "
   ]
  },
  {
   "cell_type": "code",
   "execution_count": null,
   "metadata": {},
   "outputs": [],
   "source": [
    "# List of node labels to compare\n",
    "labels = [\"researcher\", \"publication\", \"dataset\", \"grant\", \"organisation\"]\n",
    "all_comparisons = []\n",
    "\n",
    "# Connect to both graphs\n",
    "driver_old = GraphDatabase.driver(neo4j_uri_old, auth=(username_old, password_old))\n",
    "driver_new = GraphDatabase.driver(neo4j_uri_new, auth=(username_new, password_new))\n",
    "\n",
    "# Dynamically get version numbers\n",
    "version_old = get_graph_version(driver_old)\n",
    "version_new = get_graph_version(driver_new)\n",
    "\n",
    "for label in labels:\n",
    "    try:\n",
    "        df_old = get_source_counts(driver_old, label)\n",
    "        df_new = get_source_counts(driver_new, label)\n",
    "\n",
    "        merged_df = pd.merge(\n",
    "            df_old,\n",
    "            df_new,\n",
    "            on=\"source\",\n",
    "            how=\"outer\",\n",
    "            suffixes=(f\"_{version_old}\", f\"_{version_new}\")\n",
    "        )\n",
    "\n",
    "        merged_df.fillna(0, inplace=True)\n",
    "        merged_df[\"diff\"] = merged_df[f\"count_{version_new}\"] - merged_df[f\"count_{version_old}\"]\n",
    "        merged_df[\"label\"] = label\n",
    "\n",
    "        merged_df = merged_df[[\"label\", \"source\", f\"count_{version_old}\", f\"count_{version_new}\", \"diff\"]]\n",
    "        all_comparisons.append(merged_df)\n",
    "\n",
    "        logging.info(f\"Compared: {label}\")\n",
    "    except Exception as e:\n",
    "        logging.error(f\"Failed to compare {label}: {e}\")\n",
    "\n",
    "driver_old.close()\n",
    "driver_new.close()\n",
    "\n",
    "# Combine all results\n",
    "final_df = pd.concat(all_comparisons)\n",
    "final_df.sort_values(by=[\"label\", \"diff\"], ascending=[True, False], inplace=True)\n",
    "final_df.reset_index(drop=True, inplace=True)\n",
    "\n",
    "final_df"
   ]
  },
  {
   "cell_type": "markdown",
   "metadata": {},
   "source": [
    "## Save CSV Report "
   ]
  },
  {
   "cell_type": "code",
   "execution_count": null,
   "metadata": {},
   "outputs": [],
   "source": [
    "try:\n",
    "    final_df.to_csv(f\"{output_folder}/node_source_diff_all_labels.csv\", index=False)\n",
    "    logging.info(f\"Saved node source diff for all labels to {output_folder}/node_source_diff_all_labels.csv\")\n",
    "    print(f\"Saved node source diff for all labels to {output_folder}/node_source_diff_all_labels.csv\")\n",
    "except Exception as e:\n",
    "    logging.error(f\"Failed to write final CSV file: {e}\")\n",
    "    print(f\"Error writing CSV file: {e}\")\n"
   ]
  }
 ],
 "metadata": {
  "kernelspec": {
   "display_name": "neo4j_env",
   "language": "python",
   "name": "python3"
  },
  "language_info": {
   "codemirror_mode": {
    "name": "ipython",
    "version": 3
   },
   "file_extension": ".py",
   "mimetype": "text/x-python",
   "name": "python",
   "nbconvert_exporter": "python",
   "pygments_lexer": "ipython3",
   "version": "3.9.21"
  }
 },
 "nbformat": 4,
 "nbformat_minor": 2
}
