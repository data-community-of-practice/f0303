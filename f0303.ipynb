{
 "cells": [
  {
   "cell_type": "markdown",
   "metadata": {},
   "source": [
    "Feature: Compare Node Counts by Source Across All Labels"
   ]
  },
  {
   "cell_type": "markdown",
   "metadata": {},
   "source": [
    "Imports, Config, Logging Setup"
   ]
  },
  {
   "cell_type": "code",
   "execution_count": null,
   "metadata": {},
   "outputs": [],
   "source": [
    "import os\n",
    "import logging\n",
    "import configparser\n",
    "import pandas as pd\n",
    "from neo4j import GraphDatabase\n",
    "\n",
    "# Setup\n",
    "current_path = os.getcwd()\n",
    "\n",
    "config = configparser.ConfigParser()\n",
    "config.read(f\"{current_path}/config.ini\")\n",
    "\n",
    "neo4j_uri_2023 = config['DEFAULT']['Neo4j-Uri-2023']\n",
    "neo4j_uri_2024 = config['DEFAULT']['Neo4j-Uri-2024']\n",
    "username = config['DEFAULT']['Neo4j-Username']\n",
    "password_2023 = config['DEFAULT']['Neo4j-Password-2023']\n",
    "password_2024 = config['DEFAULT']['Neo4j-Password-2024']\n",
    "output_folder = config['DEFAULT']['Output-Folder']\n",
    "\n",
    "logging.basicConfig(\n",
    "    filename=f\"{current_path}/node_source_diff_all.log\",\n",
    "    level=logging.INFO,\n",
    "    format='%(asctime)s | %(levelname)s | %(message)s'\n",
    ")\n",
    "\n",
    "logging.info(\"Starting node source comparison for all labels\")\n",
    "print(\"Comparing node counts by source for all labels...\")"
   ]
  },
  {
   "cell_type": "markdown",
   "metadata": {},
   "source": [
    " Neo4j Query Helpers"
   ]
  },
  {
   "cell_type": "code",
   "execution_count": null,
   "metadata": {},
   "outputs": [],
   "source": [
    "def run_query(driver, query):\n",
    "    with driver.session() as session:\n",
    "        result = session.run(query)\n",
    "        return pd.DataFrame([dict(r) for r in result])\n",
    "\n",
    "def get_source_counts(driver, label):\n",
    "    query = f\"\"\"\n",
    "    MATCH (n:`{label}`)\n",
    "    RETURN n.source AS source, count(*) AS count\n",
    "    \"\"\"\n",
    "    return run_query(driver, query)"
   ]
  },
  {
   "cell_type": "markdown",
   "metadata": {},
   "source": [
    "Compare All Labels "
   ]
  },
  {
   "cell_type": "code",
   "execution_count": null,
   "metadata": {},
   "outputs": [],
   "source": [
    "# List of node labels to compare\n",
    "labels = [\"researcher\", \"publication\", \"dataset\", \"grant\", \"organisation\"]\n",
    "all_comparisons = []\n",
    "\n",
    "# Connect to both graphs\n",
    "driver_2023 = GraphDatabase.driver(neo4j_uri_2023, auth=(username, password_2023))\n",
    "driver_2024 = GraphDatabase.driver(neo4j_uri_2024, auth=(username, password_2024))\n",
    "\n",
    "for label in labels:\n",
    "    try:\n",
    "        df_2023 = get_source_counts(driver_2023, label)\n",
    "        df_2024 = get_source_counts(driver_2024, label)\n",
    "\n",
    "        merged_df = pd.merge(\n",
    "            df_2023,\n",
    "            df_2024,\n",
    "            on=\"source\",\n",
    "            how=\"outer\",\n",
    "            suffixes=(\"_2023\", \"_2024\")\n",
    "        )\n",
    "\n",
    "        merged_df.fillna(0, inplace=True)\n",
    "        merged_df[\"diff\"] = merged_df[\"count_2024\"] - merged_df[\"count_2023\"]\n",
    "        merged_df[\"label\"] = label\n",
    "\n",
    "        merged_df = merged_df[[\"label\", \"source\", \"count_2023\", \"count_2024\", \"diff\"]]\n",
    "        all_comparisons.append(merged_df)\n",
    "\n",
    "        logging.info(f\"Compared: {label}\")\n",
    "    except Exception as e:\n",
    "        logging.error(f\"Failed to compare {label}: {e}\")\n",
    "\n",
    "driver_2023.close()\n",
    "driver_2024.close()\n",
    "\n",
    "# Combine all results\n",
    "final_df = pd.concat(all_comparisons)\n",
    "final_df.sort_values(by=[\"label\", \"diff\"], ascending=[True, False], inplace=True)\n",
    "final_df.reset_index(drop=True, inplace=True)\n",
    "\n",
    "final_df"
   ]
  },
  {
   "cell_type": "markdown",
   "metadata": {},
   "source": [
    "Save CSV Report "
   ]
  },
  {
   "cell_type": "code",
   "execution_count": null,
   "metadata": {},
   "outputs": [],
   "source": [
    "output_file = f\"{output_folder}/node_source_diff_all_labels.csv\"\n",
    "\n",
    "try:\n",
    "    final_df.to_csv(output_file, index=False)\n",
    "    logging.info(f\"Saved node source diff for all labels to {output_file}\")\n",
    "    print(f\"Saved node source diff for all labels to {output_file}\")\n",
    "except Exception as e:\n",
    "    logging.error(f\"Failed to write final CSV: {e}\")\n",
    "    print(f\"Error writing CSV: {e}\")\n"
   ]
  }
 ],
 "metadata": {
  "language_info": {
   "name": "python"
  }
 },
 "nbformat": 4,
 "nbformat_minor": 2
}
